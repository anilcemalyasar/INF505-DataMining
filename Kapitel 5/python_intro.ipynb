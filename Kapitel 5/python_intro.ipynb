{
 "cells": [
  {
   "cell_type": "code",
   "execution_count": 3,
   "id": "d1f53e62",
   "metadata": {},
   "outputs": [
    {
     "name": "stdout",
     "output_type": "stream",
     "text": [
      "Type of a is <class 'int'>\n",
      "Type of b is <class 'float'>\n",
      "a.b = 186.25\n"
     ]
    }
   ],
   "source": [
    "a = 5\n",
    "b = 37.25\n",
    "print(f\"Type of a is {type(a)}\")\n",
    "print(f\"Type of b is {type(b)}\")\n",
    "print(f\"a.b = {a*b}\")"
   ]
  },
  {
   "cell_type": "code",
   "execution_count": 5,
   "id": "a7dcae51",
   "metadata": {},
   "outputs": [
    {
     "name": "stdout",
     "output_type": "stream",
     "text": [
      "Enter your name: Anıl\n",
      "Hello Anıl\n"
     ]
    }
   ],
   "source": [
    "s1 = \"Hello\"\n",
    "s2 = input(\"Enter your name: \")\n",
    "print(s1 + \" \" + s2)"
   ]
  },
  {
   "cell_type": "code",
   "execution_count": 7,
   "id": "5d6eb529",
   "metadata": {},
   "outputs": [
    {
     "name": "stdout",
     "output_type": "stream",
     "text": [
      "Enter your name:Anıl\n",
      "Enter your age:21\n",
      "Hello Anıl! Your age is: 21\n"
     ]
    }
   ],
   "source": [
    "name = input(\"Enter your name:\")\n",
    "age = int(input(\"Enter your age:\"))\n",
    "print(f\"Hello {name}! Your age is: {age}\")"
   ]
  },
  {
   "cell_type": "code",
   "execution_count": 8,
   "id": "1dd5e535",
   "metadata": {},
   "outputs": [
    {
     "name": "stdout",
     "output_type": "stream",
     "text": [
      "Apfel\n",
      "Banane\n",
      "Chili\n",
      "Dattel\n"
     ]
    }
   ],
   "source": [
    "values = [\"Apfel\", \"Banane\", \"Chili\", \"Dattel\"]\n",
    "for i in values:\n",
    "    print(i)"
   ]
  },
  {
   "cell_type": "markdown",
   "id": "23de28cc",
   "metadata": {},
   "source": [
    "### Lambda Operator"
   ]
  },
  {
   "cell_type": "code",
   "execution_count": 12,
   "id": "7147f200",
   "metadata": {},
   "outputs": [
    {
     "data": {
      "text/plain": [
       "[0, 1, 2, 3, 4, 5, 6, 7, 8, 9]"
      ]
     },
     "execution_count": 12,
     "metadata": {},
     "output_type": "execute_result"
    }
   ],
   "source": [
    "base_numbers = list(range(10))\n",
    "base_numbers"
   ]
  },
  {
   "cell_type": "code",
   "execution_count": 13,
   "id": "dc82c3be",
   "metadata": {},
   "outputs": [],
   "source": [
    "def power(x):\n",
    "    return x**2"
   ]
  },
  {
   "cell_type": "code",
   "execution_count": 17,
   "id": "2d7d3ca6",
   "metadata": {},
   "outputs": [
    {
     "name": "stdout",
     "output_type": "stream",
     "text": [
      "[0, 1, 4, 9, 16, 25, 36, 49, 64, 81]\n"
     ]
    }
   ],
   "source": [
    "pow_numbers_list = list()\n",
    "pow_numbers = lambda x: x**2\n",
    "for i in base_numbers:\n",
    "    pow_numbers_list.append(pow_numbers(i))\n",
    "\n",
    "print(pow_numbers_list)"
   ]
  },
  {
   "cell_type": "code",
   "execution_count": 21,
   "id": "18a6103a",
   "metadata": {},
   "outputs": [
    {
     "data": {
      "text/plain": [
       "'Full name: Anıl Yaşar'"
      ]
     },
     "execution_count": 21,
     "metadata": {},
     "output_type": "execute_result"
    }
   ],
   "source": [
    "full_name = lambda first, last: f'Full name: {first.title()} {last.title()}'\n",
    "full_name(\"Anıl\", \"Yaşar\")"
   ]
  },
  {
   "cell_type": "markdown",
   "id": "6b5e4308",
   "metadata": {},
   "source": [
    "### Dictionary"
   ]
  },
  {
   "cell_type": "code",
   "execution_count": 25,
   "id": "707cb92a",
   "metadata": {},
   "outputs": [],
   "source": [
    "adresse = {\n",
    "'Nachname': 'Meier',\n",
    "'Vorname': 'Karl',\n",
    "'Strasse': 'VMP 5',\n",
    "'PLZ': '20146',\n",
    "'Ort': 'Hamburg',\n",
    "}"
   ]
  },
  {
   "cell_type": "code",
   "execution_count": 26,
   "id": "f766f526",
   "metadata": {},
   "outputs": [
    {
     "data": {
      "text/plain": [
       "'Meier'"
      ]
     },
     "execution_count": 26,
     "metadata": {},
     "output_type": "execute_result"
    }
   ],
   "source": [
    "adresse[\"Nachname\"]"
   ]
  },
  {
   "cell_type": "code",
   "execution_count": 27,
   "id": "0564620b",
   "metadata": {},
   "outputs": [
    {
     "data": {
      "text/plain": [
       "'Hamburg'"
      ]
     },
     "execution_count": 27,
     "metadata": {},
     "output_type": "execute_result"
    }
   ],
   "source": [
    "adresse[\"Ort\"]"
   ]
  },
  {
   "cell_type": "code",
   "execution_count": 29,
   "id": "814d13fe",
   "metadata": {},
   "outputs": [
    {
     "name": "stdout",
     "output_type": "stream",
     "text": [
      "Karl Meier\n"
     ]
    }
   ],
   "source": [
    "print(adresse['Vorname'] + \" \" + adresse['Nachname'])"
   ]
  },
  {
   "cell_type": "code",
   "execution_count": 30,
   "id": "822763e8",
   "metadata": {},
   "outputs": [
    {
     "name": "stdout",
     "output_type": "stream",
     "text": [
      "20146 Hamburg\n"
     ]
    }
   ],
   "source": [
    "print(adresse['PLZ'] + \" \" + adresse['Ort'])"
   ]
  },
  {
   "cell_type": "markdown",
   "id": "feb74e46",
   "metadata": {},
   "source": [
    "### Loop"
   ]
  },
  {
   "cell_type": "code",
   "execution_count": 31,
   "id": "bb88648e",
   "metadata": {},
   "outputs": [
    {
     "name": "stdout",
     "output_type": "stream",
     "text": [
      "Apfel\n",
      "Banane\n",
      "Chili\n",
      "Dattel\n"
     ]
    }
   ],
   "source": [
    "for i in range(len(values)):\n",
    "    print(values[i])"
   ]
  },
  {
   "cell_type": "code",
   "execution_count": 32,
   "id": "9c0a2ef3",
   "metadata": {},
   "outputs": [
    {
     "name": "stdout",
     "output_type": "stream",
     "text": [
      "4950\n"
     ]
    }
   ],
   "source": [
    "total = 0\n",
    "for i in range(100):\n",
    "    total += i\n",
    "print(total)"
   ]
  },
  {
   "cell_type": "code",
   "execution_count": 33,
   "id": "3ee0339b",
   "metadata": {},
   "outputs": [
    {
     "name": "stdout",
     "output_type": "stream",
     "text": [
      "Nachname: Meier\n",
      "Vorname: Karl\n",
      "Strasse: VMP 5\n",
      "PLZ: 20146\n",
      "Ort: Hamburg\n"
     ]
    }
   ],
   "source": [
    "# Iterate on keys and values at the same time\n",
    "for key, value in adresse.items():\n",
    "    print(f\"{key}: {value}\")"
   ]
  },
  {
   "cell_type": "code",
   "execution_count": 34,
   "id": "b782222a",
   "metadata": {},
   "outputs": [
    {
     "name": "stdout",
     "output_type": "stream",
     "text": [
      "Nachname\n",
      "Vorname\n",
      "Strasse\n",
      "PLZ\n",
      "Ort\n"
     ]
    }
   ],
   "source": [
    "# Iterate on only keys\n",
    "for key in adresse.keys():\n",
    "    print(key)"
   ]
  },
  {
   "cell_type": "code",
   "execution_count": 35,
   "id": "d8dcd372",
   "metadata": {},
   "outputs": [
    {
     "name": "stdout",
     "output_type": "stream",
     "text": [
      "Meier\n",
      "Karl\n",
      "VMP 5\n",
      "20146\n",
      "Hamburg\n"
     ]
    }
   ],
   "source": [
    "# Iterate on only values\n",
    "for value in adresse.values():\n",
    "    print(value)"
   ]
  },
  {
   "cell_type": "markdown",
   "id": "fa9e62af",
   "metadata": {},
   "source": [
    "### Random Library"
   ]
  },
  {
   "cell_type": "code",
   "execution_count": 37,
   "id": "ddd6c850",
   "metadata": {},
   "outputs": [],
   "source": [
    "# First, we need the import module into program\n",
    "import random"
   ]
  },
  {
   "cell_type": "markdown",
   "id": "fdcc6e19",
   "metadata": {},
   "source": [
    "#### random.randint : Return random integer in range [a, b], including both end points."
   ]
  },
  {
   "cell_type": "code",
   "execution_count": 38,
   "id": "cab6b025",
   "metadata": {},
   "outputs": [
    {
     "name": "stdout",
     "output_type": "stream",
     "text": [
      "[9, 2, -4, 9, -7, -4, 3, -10, 1, 7]\n"
     ]
    }
   ],
   "source": [
    "zufalls_zahlen = []\n",
    "for i in range(10):\n",
    "    zufalls_zahlen.append(random.randint(-10, 10))\n",
    "\n",
    "print(zufalls_zahlen)"
   ]
  },
  {
   "cell_type": "markdown",
   "id": "0830fdd6",
   "metadata": {},
   "source": [
    "### Methods"
   ]
  },
  {
   "cell_type": "code",
   "execution_count": 41,
   "id": "b8fe345f",
   "metadata": {},
   "outputs": [],
   "source": [
    "def generateRandomNumbers(n, a, b):\n",
    "    zz = {}\n",
    "    for i in range(n):\n",
    "        try:\n",
    "            zz[i] = random.randint(a, b)\n",
    "        except ValueError:\n",
    "            raise Exception(\"Second parameter must be bigger than third parameter\")\n",
    "    return zz"
   ]
  },
  {
   "cell_type": "code",
   "execution_count": 42,
   "id": "fd6c5a4a",
   "metadata": {},
   "outputs": [
    {
     "ename": "Exception",
     "evalue": "Second parameter must be bigger than third parameter",
     "output_type": "error",
     "traceback": [
      "\u001b[1;31m---------------------------------------------------------------------------\u001b[0m",
      "\u001b[1;31mValueError\u001b[0m                                Traceback (most recent call last)",
      "Cell \u001b[1;32mIn[41], line 5\u001b[0m, in \u001b[0;36mgenerateRandomNumbers\u001b[1;34m(n, a, b)\u001b[0m\n\u001b[0;32m      4\u001b[0m \u001b[38;5;28;01mtry\u001b[39;00m:\n\u001b[1;32m----> 5\u001b[0m     zz[i] \u001b[38;5;241m=\u001b[39m \u001b[43mrandom\u001b[49m\u001b[38;5;241;43m.\u001b[39;49m\u001b[43mrandint\u001b[49m\u001b[43m(\u001b[49m\u001b[43ma\u001b[49m\u001b[43m,\u001b[49m\u001b[43m \u001b[49m\u001b[43mb\u001b[49m\u001b[43m)\u001b[49m\n\u001b[0;32m      6\u001b[0m \u001b[38;5;28;01mexcept\u001b[39;00m \u001b[38;5;167;01mValueError\u001b[39;00m:\n",
      "File \u001b[1;32m~\\anaconda3\\anaconda3_main\\lib\\random.py:370\u001b[0m, in \u001b[0;36mRandom.randint\u001b[1;34m(self, a, b)\u001b[0m\n\u001b[0;32m    367\u001b[0m \u001b[38;5;250m\u001b[39m\u001b[38;5;124;03m\"\"\"Return random integer in range [a, b], including both end points.\u001b[39;00m\n\u001b[0;32m    368\u001b[0m \u001b[38;5;124;03m\"\"\"\u001b[39;00m\n\u001b[1;32m--> 370\u001b[0m \u001b[38;5;28;01mreturn\u001b[39;00m \u001b[38;5;28;43mself\u001b[39;49m\u001b[38;5;241;43m.\u001b[39;49m\u001b[43mrandrange\u001b[49m\u001b[43m(\u001b[49m\u001b[43ma\u001b[49m\u001b[43m,\u001b[49m\u001b[43m \u001b[49m\u001b[43mb\u001b[49m\u001b[38;5;241;43m+\u001b[39;49m\u001b[38;5;241;43m1\u001b[39;49m\u001b[43m)\u001b[49m\n",
      "File \u001b[1;32m~\\anaconda3\\anaconda3_main\\lib\\random.py:353\u001b[0m, in \u001b[0;36mRandom.randrange\u001b[1;34m(self, start, stop, step)\u001b[0m\n\u001b[0;32m    352\u001b[0m         \u001b[38;5;28;01mreturn\u001b[39;00m istart \u001b[38;5;241m+\u001b[39m \u001b[38;5;28mself\u001b[39m\u001b[38;5;241m.\u001b[39m_randbelow(width)\n\u001b[1;32m--> 353\u001b[0m     \u001b[38;5;28;01mraise\u001b[39;00m \u001b[38;5;167;01mValueError\u001b[39;00m(\u001b[38;5;124m\"\u001b[39m\u001b[38;5;124mempty range for randrange() (\u001b[39m\u001b[38;5;132;01m%d\u001b[39;00m\u001b[38;5;124m, \u001b[39m\u001b[38;5;132;01m%d\u001b[39;00m\u001b[38;5;124m, \u001b[39m\u001b[38;5;132;01m%d\u001b[39;00m\u001b[38;5;124m)\u001b[39m\u001b[38;5;124m\"\u001b[39m \u001b[38;5;241m%\u001b[39m (istart, istop, width))\n\u001b[0;32m    355\u001b[0m \u001b[38;5;66;03m# Non-unit step argument supplied.\u001b[39;00m\n",
      "\u001b[1;31mValueError\u001b[0m: empty range for randrange() (5, -4, -9)",
      "\nDuring handling of the above exception, another exception occurred:\n",
      "\u001b[1;31mException\u001b[0m                                 Traceback (most recent call last)",
      "Cell \u001b[1;32mIn[42], line 1\u001b[0m\n\u001b[1;32m----> 1\u001b[0m \u001b[38;5;28mprint\u001b[39m(\u001b[43mgenerateRandomNumbers\u001b[49m\u001b[43m(\u001b[49m\u001b[38;5;241;43m12\u001b[39;49m\u001b[43m,\u001b[49m\u001b[43m \u001b[49m\u001b[38;5;241;43m5\u001b[39;49m\u001b[43m,\u001b[49m\u001b[43m \u001b[49m\u001b[38;5;241;43m-\u001b[39;49m\u001b[38;5;241;43m5\u001b[39;49m\u001b[43m)\u001b[49m)\n",
      "Cell \u001b[1;32mIn[41], line 7\u001b[0m, in \u001b[0;36mgenerateRandomNumbers\u001b[1;34m(n, a, b)\u001b[0m\n\u001b[0;32m      5\u001b[0m         zz[i] \u001b[38;5;241m=\u001b[39m random\u001b[38;5;241m.\u001b[39mrandint(a, b)\n\u001b[0;32m      6\u001b[0m     \u001b[38;5;28;01mexcept\u001b[39;00m \u001b[38;5;167;01mValueError\u001b[39;00m:\n\u001b[1;32m----> 7\u001b[0m         \u001b[38;5;28;01mraise\u001b[39;00m \u001b[38;5;167;01mException\u001b[39;00m(\u001b[38;5;124m\"\u001b[39m\u001b[38;5;124mSecond parameter must be bigger than third parameter\u001b[39m\u001b[38;5;124m\"\u001b[39m)\n\u001b[0;32m      8\u001b[0m \u001b[38;5;28;01mreturn\u001b[39;00m zz\n",
      "\u001b[1;31mException\u001b[0m: Second parameter must be bigger than third parameter"
     ]
    }
   ],
   "source": [
    "print(generateRandomNumbers(12, 5, -5))"
   ]
  },
  {
   "cell_type": "code",
   "execution_count": 48,
   "id": "bea92d73",
   "metadata": {},
   "outputs": [],
   "source": [
    "def sum(zahlen):\n",
    "    \"\"\"\n",
    "        Parameter must be a dictionary object type, otherwise an exception will be thrown\n",
    "    \"\"\"\n",
    "    if type(zahlen) is not dict:\n",
    "        raise Exception(\"Parameter must be a dictionary object type\")\n",
    "    else:     \n",
    "        total = 0\n",
    "        for i in zahlen.values():\n",
    "            total += i\n",
    "        return total"
   ]
  },
  {
   "cell_type": "code",
   "execution_count": 49,
   "id": "1ee89746",
   "metadata": {},
   "outputs": [
    {
     "data": {
      "text/plain": [
       "[0, 1, 2, 3, 4, 5, 6, 7, 8, 9, 10, 11, 12, 13, 14, 15, 16, 17, 18, 19]"
      ]
     },
     "execution_count": 49,
     "metadata": {},
     "output_type": "execute_result"
    }
   ],
   "source": [
    "zahlen_list = list(range(20))\n",
    "zahlen_list"
   ]
  },
  {
   "cell_type": "code",
   "execution_count": 50,
   "id": "9cd1e73d",
   "metadata": {},
   "outputs": [
    {
     "data": {
      "text/plain": [
       "{0: 10,\n",
       " 1: -9,\n",
       " 2: -1,\n",
       " 3: -2,\n",
       " 4: -1,\n",
       " 5: 3,\n",
       " 6: 0,\n",
       " 7: 7,\n",
       " 8: 2,\n",
       " 9: -2,\n",
       " 10: -8,\n",
       " 11: -2,\n",
       " 12: 2,\n",
       " 13: -2,\n",
       " 14: 10,\n",
       " 15: -6,\n",
       " 16: 9,\n",
       " 17: -4,\n",
       " 18: -7,\n",
       " 19: 3}"
      ]
     },
     "execution_count": 50,
     "metadata": {},
     "output_type": "execute_result"
    }
   ],
   "source": [
    "zahlen_dict = generateRandomNumbers(20, -10, 10)\n",
    "zahlen_dict"
   ]
  },
  {
   "cell_type": "code",
   "execution_count": 52,
   "id": "babe40a8",
   "metadata": {},
   "outputs": [
    {
     "ename": "Exception",
     "evalue": "Parameter must be a dictionary object type",
     "output_type": "error",
     "traceback": [
      "\u001b[1;31m---------------------------------------------------------------------------\u001b[0m",
      "\u001b[1;31mException\u001b[0m                                 Traceback (most recent call last)",
      "Cell \u001b[1;32mIn[52], line 1\u001b[0m\n\u001b[1;32m----> 1\u001b[0m \u001b[38;5;28;43msum\u001b[39;49m\u001b[43m(\u001b[49m\u001b[43mzahlen_list\u001b[49m\u001b[43m)\u001b[49m\n",
      "Cell \u001b[1;32mIn[48], line 6\u001b[0m, in \u001b[0;36msum\u001b[1;34m(zahlen)\u001b[0m\n\u001b[0;32m      2\u001b[0m \u001b[38;5;250m\u001b[39m\u001b[38;5;124;03m\"\"\"\u001b[39;00m\n\u001b[0;32m      3\u001b[0m \u001b[38;5;124;03m    Parameter must be a dictionary object type, otherwise an exception will be thrown\u001b[39;00m\n\u001b[0;32m      4\u001b[0m \u001b[38;5;124;03m\"\"\"\u001b[39;00m\n\u001b[0;32m      5\u001b[0m \u001b[38;5;28;01mif\u001b[39;00m \u001b[38;5;28mtype\u001b[39m(zahlen) \u001b[38;5;129;01mis\u001b[39;00m \u001b[38;5;129;01mnot\u001b[39;00m \u001b[38;5;28mdict\u001b[39m:\n\u001b[1;32m----> 6\u001b[0m     \u001b[38;5;28;01mraise\u001b[39;00m \u001b[38;5;167;01mException\u001b[39;00m(\u001b[38;5;124m\"\u001b[39m\u001b[38;5;124mParameter must be a dictionary object type\u001b[39m\u001b[38;5;124m\"\u001b[39m)\n\u001b[0;32m      7\u001b[0m \u001b[38;5;28;01melse\u001b[39;00m:     \n\u001b[0;32m      8\u001b[0m     total \u001b[38;5;241m=\u001b[39m \u001b[38;5;241m0\u001b[39m\n",
      "\u001b[1;31mException\u001b[0m: Parameter must be a dictionary object type"
     ]
    }
   ],
   "source": [
    "sum(zahlen_list)"
   ]
  },
  {
   "cell_type": "code",
   "execution_count": 53,
   "id": "5920d1cd",
   "metadata": {},
   "outputs": [
    {
     "data": {
      "text/plain": [
       "2"
      ]
     },
     "execution_count": 53,
     "metadata": {},
     "output_type": "execute_result"
    }
   ],
   "source": [
    "sum(zahlen_dict)"
   ]
  }
 ],
 "metadata": {
  "kernelspec": {
   "display_name": "Python 3 (ipykernel)",
   "language": "python",
   "name": "python3"
  },
  "language_info": {
   "codemirror_mode": {
    "name": "ipython",
    "version": 3
   },
   "file_extension": ".py",
   "mimetype": "text/x-python",
   "name": "python",
   "nbconvert_exporter": "python",
   "pygments_lexer": "ipython3",
   "version": "3.10.13"
  }
 },
 "nbformat": 4,
 "nbformat_minor": 5
}
