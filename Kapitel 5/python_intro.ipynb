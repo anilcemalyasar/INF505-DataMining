{
 "cells": [
  {
   "cell_type": "code",
   "execution_count": 3,
   "id": "4936ccb8",
   "metadata": {},
   "outputs": [
    {
     "name": "stdout",
     "output_type": "stream",
     "text": [
      "Type of a is <class 'int'>\n",
      "Type of b is <class 'float'>\n",
      "a.b = 186.25\n"
     ]
    }
   ],
   "source": [
    "a = 5\n",
    "b = 37.25\n",
    "print(f\"Type of a is {type(a)}\")\n",
    "print(f\"Type of b is {type(b)}\")\n",
    "print(f\"a.b = {a*b}\")"
   ]
  },
  {
   "cell_type": "code",
   "execution_count": 5,
   "id": "845ebc52",
   "metadata": {},
   "outputs": [
    {
     "name": "stdout",
     "output_type": "stream",
     "text": [
      "Enter your name: Anıl\n",
      "Hello Anıl\n"
     ]
    }
   ],
   "source": [
    "s1 = \"Hello\"\n",
    "s2 = input(\"Enter your name: \")\n",
    "print(s1 + \" \" + s2)"
   ]
  },
  {
   "cell_type": "code",
   "execution_count": 7,
   "id": "afb131e0",
   "metadata": {},
   "outputs": [
    {
     "name": "stdout",
     "output_type": "stream",
     "text": [
      "Enter your name:Anıl\n",
      "Enter your age:21\n",
      "Hello Anıl! Your age is: 21\n"
     ]
    }
   ],
   "source": [
    "name = input(\"Enter your name:\")\n",
    "age = int(input(\"Enter your age:\"))\n",
    "print(f\"Hello {name}! Your age is: {age}\")"
   ]
  },
  {
   "cell_type": "code",
   "execution_count": 8,
   "id": "7dbdd412",
   "metadata": {},
   "outputs": [
    {
     "name": "stdout",
     "output_type": "stream",
     "text": [
      "Apfel\n",
      "Banane\n",
      "Chili\n",
      "Dattel\n"
     ]
    }
   ],
   "source": [
    "values = [\"Apfel\", \"Banane\", \"Chili\", \"Dattel\"]\n",
    "for i in values:\n",
    "    print(i)"
   ]
  },
  {
   "cell_type": "markdown",
   "id": "6cff829b",
   "metadata": {},
   "source": [
    "### Lambda Operator"
   ]
  },
  {
   "cell_type": "code",
   "execution_count": 12,
   "id": "ae211d42",
   "metadata": {},
   "outputs": [
    {
     "data": {
      "text/plain": [
       "[0, 1, 2, 3, 4, 5, 6, 7, 8, 9]"
      ]
     },
     "execution_count": 12,
     "metadata": {},
     "output_type": "execute_result"
    }
   ],
   "source": [
    "base_numbers = list(range(10))\n",
    "base_numbers"
   ]
  },
  {
   "cell_type": "code",
   "execution_count": 13,
   "id": "1b7dcfd8",
   "metadata": {},
   "outputs": [],
   "source": [
    "def power(x):\n",
    "    return x**2"
   ]
  },
  {
   "cell_type": "code",
   "execution_count": 17,
   "id": "c8b5b6b7",
   "metadata": {},
   "outputs": [
    {
     "name": "stdout",
     "output_type": "stream",
     "text": [
      "[0, 1, 4, 9, 16, 25, 36, 49, 64, 81]\n"
     ]
    }
   ],
   "source": [
    "pow_numbers_list = list()\n",
    "pow_numbers = lambda x: x**2\n",
    "for i in base_numbers:\n",
    "    pow_numbers_list.append(pow_numbers(i))\n",
    "\n",
    "print(pow_numbers_list)"
   ]
  },
  {
   "cell_type": "code",
   "execution_count": 21,
   "id": "2ca919c5",
   "metadata": {},
   "outputs": [
    {
     "data": {
      "text/plain": [
       "'Full name: Anıl Yaşar'"
      ]
     },
     "execution_count": 21,
     "metadata": {},
     "output_type": "execute_result"
    }
   ],
   "source": [
    "full_name = lambda first, last: f'Full name: {first.title()} {last.title()}'\n",
    "full_name(\"Anıl\", \"Yaşar\")"
   ]
  },
  {
   "cell_type": "markdown",
   "id": "24feb6a2",
   "metadata": {},
   "source": [
    "### Dictionary"
   ]
  },
  {
   "cell_type": "code",
   "execution_count": 25,
   "id": "a7aea440",
   "metadata": {},
   "outputs": [],
   "source": [
    "adresse = {\n",
    "'Nachname': 'Meier',\n",
    "'Vorname': 'Karl',\n",
    "'Strasse': 'VMP 5',\n",
    "'PLZ': '20146',\n",
    "'Ort': 'Hamburg',\n",
    "}"
   ]
  },
  {
   "cell_type": "code",
   "execution_count": 26,
   "id": "070f4cdb",
   "metadata": {},
   "outputs": [
    {
     "data": {
      "text/plain": [
       "'Meier'"
      ]
     },
     "execution_count": 26,
     "metadata": {},
     "output_type": "execute_result"
    }
   ],
   "source": [
    "adresse[\"Nachname\"]"
   ]
  },
  {
   "cell_type": "code",
   "execution_count": 27,
   "id": "774bd916",
   "metadata": {},
   "outputs": [
    {
     "data": {
      "text/plain": [
       "'Hamburg'"
      ]
     },
     "execution_count": 27,
     "metadata": {},
     "output_type": "execute_result"
    }
   ],
   "source": [
    "adresse[\"Ort\"]"
   ]
  },
  {
   "cell_type": "code",
   "execution_count": 29,
   "id": "bd131339",
   "metadata": {},
   "outputs": [
    {
     "name": "stdout",
     "output_type": "stream",
     "text": [
      "Karl Meier\n"
     ]
    }
   ],
   "source": [
    "print(adresse['Vorname'] + \" \" + adresse['Nachname'])"
   ]
  },
  {
   "cell_type": "code",
   "execution_count": 30,
   "id": "25818368",
   "metadata": {},
   "outputs": [
    {
     "name": "stdout",
     "output_type": "stream",
     "text": [
      "20146 Hamburg\n"
     ]
    }
   ],
   "source": [
    "print(adresse['PLZ'] + \" \" + adresse['Ort'])"
   ]
  }
 ],
 "metadata": {
  "kernelspec": {
   "display_name": "Python 3 (ipykernel)",
   "language": "python",
   "name": "python3"
  },
  "language_info": {
   "codemirror_mode": {
    "name": "ipython",
    "version": 3
   },
   "file_extension": ".py",
   "mimetype": "text/x-python",
   "name": "python",
   "nbconvert_exporter": "python",
   "pygments_lexer": "ipython3",
   "version": "3.10.13"
  }
 },
 "nbformat": 4,
 "nbformat_minor": 5
}
